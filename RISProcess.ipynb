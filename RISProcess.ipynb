{
 "cells": [
  {
   "cell_type": "markdown",
   "id": "backed-mouth",
   "metadata": {},
   "source": [
    "# RISProcess\n",
    "\n",
    "## Signal Processing Workflow Control\n",
    "\n",
    "Contents:\n",
    "1. Download Data\n",
    "2. "
   ]
  },
  {
   "cell_type": "code",
   "execution_count": 1,
   "id": "spectacular-native",
   "metadata": {},
   "outputs": [],
   "source": [
    "from IPython.display import Markdown as md\n",
    "\n",
    "from RISProcess.io import config"
   ]
  },
  {
   "cell_type": "markdown",
   "id": "sacred-rainbow",
   "metadata": {},
   "source": [
    "## Download Data"
   ]
  },
  {
   "cell_type": "code",
   "execution_count": null,
   "id": "floral-skiing",
   "metadata": {},
   "outputs": [],
   "source": []
  },
  {
   "cell_type": "markdown",
   "id": "cooked-redhead",
   "metadata": {},
   "source": [
    "## Pre-process Data"
   ]
  },
  {
   "cell_type": "code",
   "execution_count": null,
   "id": "hairy-gossip",
   "metadata": {},
   "outputs": [],
   "source": []
  },
  {
   "cell_type": "markdown",
   "id": "sudden-memory",
   "metadata": {},
   "source": [
    "## Detect Events & Build Catalogue"
   ]
  },
  {
   "cell_type": "markdown",
   "id": "opponent-interface",
   "metadata": {},
   "source": [
    "### 1. Set processing configuration parameters and create configuration file."
   ]
  },
  {
   "cell_type": "code",
   "execution_count": 2,
   "id": "bound-fitness",
   "metadata": {},
   "outputs": [],
   "source": [
    "datapath = '/Volumes/RISData'\n",
    "basepath = './outputs'\n",
    "writepath = basepath\n",
    "configpath = basepath\n",
    "\n",
    "parameters = {\n",
    "    'start': '20141201T0000',\n",
    "    'stop': '20141203T0000',\n",
    "    'mode': 'detect',\n",
    "    'sourcepath': datapath,\n",
    "    'writepath': writepath,\n",
    "    'network': 'XH',\n",
    "    'channel': 'HHZ',\n",
    "    'taper': 60,\n",
    "    'prefeed': 60,\n",
    "    'fs2': 50,\n",
    "    'cutoff': '3, 20',\n",
    "    'output': 'acc',\n",
    "    'prefilt': '0.004, 0.01, 500, 1000',\n",
    "    'waterlevel': 14,\n",
    "    'detector': 'z',\n",
    "    'on': 8,\n",
    "    'off': 4,\n",
    "    'num_workers': 4\n",
    "}\n",
    "config_file = config('w', path=configpath, parameters=parameters)"
   ]
  },
  {
   "cell_type": "markdown",
   "id": "prime-bowling",
   "metadata": {},
   "source": [
    "### 2. Process data.\n",
    "To execute the script, run the following code in terminal with the appropriate `conda` environment activated:"
   ]
  },
  {
   "cell_type": "code",
   "execution_count": 3,
   "id": "killing-duncan",
   "metadata": {
    "scrolled": false
   },
   "outputs": [
    {
     "data": {
      "text/markdown": [
       "`process /Users/williamjenkins/Research/Workflows/RIS_Seismic_Processing/Source/RISProcess/outputs/config_detect.ini`"
      ],
      "text/plain": [
       "<IPython.core.display.Markdown object>"
      ]
     },
     "execution_count": 3,
     "metadata": {},
     "output_type": "execute_result"
    }
   ],
   "source": [
    "md(f\"`process {config_file}`\")"
   ]
  },
  {
   "cell_type": "markdown",
   "id": "eligible-netherlands",
   "metadata": {},
   "source": [
    "### 3. Clean catalogue\n",
    "Remove duplicate detections, and if desired, detections that occur within a window (s) following an initial detection."
   ]
  },
  {
   "cell_type": "code",
   "execution_count": 8,
   "id": "behavioral-italian",
   "metadata": {},
   "outputs": [
    {
     "data": {
      "text/markdown": [
       "`cleancat ./outputs/catalogue.csv --dest ./outputs/catalogue2.csv --window 10`"
      ],
      "text/plain": [
       "<IPython.core.display.Markdown object>"
      ]
     },
     "execution_count": 8,
     "metadata": {},
     "output_type": "execute_result"
    }
   ],
   "source": [
    "window = 10\n",
    "\n",
    "md(f\"`cleancat {basepath}/catalogue.csv --dest {basepath}/catalogue2.csv --window {window}`\")"
   ]
  },
  {
   "cell_type": "markdown",
   "id": "serious-satisfaction",
   "metadata": {},
   "source": [
    "## Build h5 Database from Catalogue"
   ]
  },
  {
   "cell_type": "markdown",
   "id": "sharp-nickname",
   "metadata": {},
   "source": [
    "### 1. Set processing configuration parameters and create configuration file."
   ]
  },
  {
   "cell_type": "code",
   "execution_count": 9,
   "id": "three-confirmation",
   "metadata": {},
   "outputs": [],
   "source": [
    "sourcepath = '/Volumes/RISData'\n",
    "basepath = './outputs'\n",
    "writepath = f\"{basepath}/RISData.h5\"\n",
    "catalogue = f\"{basepath}/catalogue2.csv\"\n",
    "configpath = basepath\n",
    "\n",
    "parameters = {\n",
    "    'start': '20141201T0000',\n",
    "    'stop': '20141203T0000',\n",
    "    'mode': 'cat2h5',\n",
    "    'sourcepath': sourcepath,\n",
    "    'catalogue': catalogue,\n",
    "    'network': 'XH',\n",
    "    'channel': 'HHZ',\n",
    "    'taper': 10,\n",
    "    'prefeed': 10,\n",
    "    'fs2': 50,\n",
    "    'cutoff': '3, 20',\n",
    "    'T_seg': 4,\n",
    "    'NFFT': 256,\n",
    "    'tpersnap': 0.4,\n",
    "    'overlap': 0.9,\n",
    "    'output': 'acc',\n",
    "    'prefilt': '0.004, 0.01, 500, 1000',\n",
    "    'waterlevel': 14,\n",
    "    'detector': 'z',\n",
    "    'on': 8,\n",
    "    'off': 4,\n",
    "    'det_window': 5,\n",
    "    'num_workers': 4\n",
    "}\n",
    "config_file = config('w', path=configpath, parameters=parameters)"
   ]
  },
  {
   "cell_type": "markdown",
   "id": "welsh-constitutional",
   "metadata": {},
   "source": [
    "### 2. Process data."
   ]
  },
  {
   "cell_type": "code",
   "execution_count": 10,
   "id": "textile-anaheim",
   "metadata": {},
   "outputs": [
    {
     "data": {
      "text/markdown": [
       "`process /Users/williamjenkins/Research/Workflows/RIS_Seismic_Processing/Source/RISProcess/outputs/config_cat2h5.ini`"
      ],
      "text/plain": [
       "<IPython.core.display.Markdown object>"
      ]
     },
     "execution_count": 10,
     "metadata": {},
     "output_type": "execute_result"
    }
   ],
   "source": [
    "md(f\"`process {config_file}`\")"
   ]
  },
  {
   "cell_type": "code",
   "execution_count": null,
   "id": "mechanical-victory",
   "metadata": {},
   "outputs": [],
   "source": []
  }
 ],
 "metadata": {
  "kernelspec": {
   "display_name": "RISProcess",
   "language": "python",
   "name": "risprocess"
  },
  "language_info": {
   "codemirror_mode": {
    "name": "ipython",
    "version": 3
   },
   "file_extension": ".py",
   "mimetype": "text/x-python",
   "name": "python",
   "nbconvert_exporter": "python",
   "pygments_lexer": "ipython3",
   "version": "3.8.6"
  }
 },
 "nbformat": 4,
 "nbformat_minor": 5
}
