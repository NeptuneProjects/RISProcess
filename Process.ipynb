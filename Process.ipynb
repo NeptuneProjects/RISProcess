{
 "cells": [
  {
   "cell_type": "markdown",
   "id": "backed-mouth",
   "metadata": {},
   "source": [
    "# RISProcess\n",
    "\n",
    "## Signal Processing Workflow Control\n",
    "\n",
    "Contents:\n",
    "1. Download Data\n",
    "2. "
   ]
  },
  {
   "cell_type": "code",
   "execution_count": 2,
   "id": "spectacular-native",
   "metadata": {},
   "outputs": [],
   "source": [
    "from RISProcess.io import config"
   ]
  },
  {
   "cell_type": "markdown",
   "id": "sacred-rainbow",
   "metadata": {},
   "source": [
    "## Download Data"
   ]
  },
  {
   "cell_type": "code",
   "execution_count": null,
   "id": "floral-skiing",
   "metadata": {},
   "outputs": [],
   "source": []
  },
  {
   "cell_type": "markdown",
   "id": "cooked-redhead",
   "metadata": {},
   "source": [
    "## Pre-process Data"
   ]
  },
  {
   "cell_type": "code",
   "execution_count": null,
   "id": "hairy-gossip",
   "metadata": {},
   "outputs": [],
   "source": []
  },
  {
   "cell_type": "markdown",
   "id": "sudden-memory",
   "metadata": {},
   "source": [
    "## Detect Events & Build Catalogue"
   ]
  },
  {
   "cell_type": "code",
   "execution_count": 3,
   "id": "bound-fitness",
   "metadata": {},
   "outputs": [],
   "source": [
    "configpath = '/Users/williamjenkins/Desktop/TestEnv'\n",
    "parameters = {\n",
    "    'start': '20160401T0000',\n",
    "    'stop': '20161201T0000',\n",
    "    'mode': 'detect',\n",
    "    'sourcepath': '/Volumes/RISData',\n",
    "    'writepath': '/Users/williamjenkins/Research/Data/MSEED',\n",
    "    'network': 'XH',\n",
    "    'channel': 'HHZ',\n",
    "    'taper': 60,\n",
    "    'prefeed': 60,\n",
    "    'fs2': 50,\n",
    "    'cutoff': '3, 20',\n",
    "    'output': 'acc',\n",
    "    'prefilt': '0.004, 0.01, 500, 1000',\n",
    "    'waterlevel': 14,\n",
    "    'detecetor': 'z',\n",
    "    'on': 8,\n",
    "    'off': 4,\n",
    "    'num_workers': 8\n",
    "}\n",
    "config_file = config('w', path=configpath, parameters=parameters)"
   ]
  },
  {
   "cell_type": "markdown",
   "id": "serious-satisfaction",
   "metadata": {},
   "source": [
    "## Build h5 Database from Catalogue"
   ]
  },
  {
   "cell_type": "code",
   "execution_count": null,
   "id": "three-confirmation",
   "metadata": {},
   "outputs": [],
   "source": [
    "parameters = {\n",
    "    \n",
    "}"
   ]
  }
 ],
 "metadata": {
  "kernelspec": {
   "display_name": "RISProcess",
   "language": "python",
   "name": "risprocess"
  },
  "language_info": {
   "codemirror_mode": {
    "name": "ipython",
    "version": 3
   },
   "file_extension": ".py",
   "mimetype": "text/x-python",
   "name": "python",
   "nbconvert_exporter": "python",
   "pygments_lexer": "ipython3",
   "version": "3.8.6"
  }
 },
 "nbformat": 4,
 "nbformat_minor": 5
}
