{
 "cells": [
  {
   "cell_type": "markdown",
   "id": "backed-mouth",
   "metadata": {},
   "source": [
    "# RISProcess\n",
    "\n",
    "## Signal Processing Workflow Control\n",
    "\n",
    "Contents:\n",
    "1. Download Data\n",
    "2. "
   ]
  },
  {
   "cell_type": "code",
   "execution_count": 8,
   "id": "spectacular-native",
   "metadata": {},
   "outputs": [],
   "source": [
    "import sys\n",
    "sys.path.insert(0, \"./RISProcess\")\n",
    "\n",
    "from IPython.display import Markdown as md"
   ]
  },
  {
   "cell_type": "markdown",
   "id": "sacred-rainbow",
   "metadata": {},
   "source": [
    "## Download Data"
   ]
  },
  {
   "cell_type": "code",
   "execution_count": 2,
   "id": "floral-skiing",
   "metadata": {},
   "outputs": [],
   "source": [
    "from RISProcess.io import config"
   ]
  },
  {
   "cell_type": "markdown",
   "id": "cooked-redhead",
   "metadata": {},
   "source": [
    "## Pre-process Data"
   ]
  },
  {
   "cell_type": "code",
   "execution_count": null,
   "id": "hairy-gossip",
   "metadata": {},
   "outputs": [],
   "source": []
  },
  {
   "cell_type": "markdown",
   "id": "sudden-memory",
   "metadata": {},
   "source": [
    "## Detect Events & Build Catalogue"
   ]
  },
  {
   "cell_type": "code",
   "execution_count": 14,
   "id": "bound-fitness",
   "metadata": {},
   "outputs": [],
   "source": [
    "configpath = '/Users/williamjenkins/Desktop/TestEnv'\n",
    "parameters = {\n",
    "    'start': '20141201T0000',\n",
    "    'stop': '20141203T0000',\n",
    "    'mode': 'detect',\n",
    "    'sourcepath': '/Volumes/RISData',\n",
    "    'writepath': '/Users/williamjenkins/Desktop/TestEnv/MSEED',\n",
    "    'network': 'XH',\n",
    "    'channel': 'HHZ',\n",
    "    'taper': 60,\n",
    "    'prefeed': 60,\n",
    "    'fs2': 50,\n",
    "    'cutoff': '3, 20',\n",
    "    'output': 'acc',\n",
    "    'prefilt': '0.004, 0.01, 500, 1000',\n",
    "    'waterlevel': 14,\n",
    "    'detecetor': 'z',\n",
    "    'on': 8,\n",
    "    'off': 4,\n",
    "    'num_workers': 8\n",
    "}\n",
    "config_file = config('w', path=configpath, parameters=parameters)"
   ]
  },
  {
   "cell_type": "code",
   "execution_count": 15,
   "id": "intense-korean",
   "metadata": {},
   "outputs": [
    {
     "data": {
      "text/markdown": [
       "To execute the script, run the following code in terminal with the appropriate `conda` environment activated:<br>`process /Users/williamjenkins/Desktop/TestEnv/config_detect.ini`"
      ],
      "text/plain": [
       "<IPython.core.display.Markdown object>"
      ]
     },
     "execution_count": 15,
     "metadata": {},
     "output_type": "execute_result"
    }
   ],
   "source": [
    "md(f\"To execute the script, run the following code in terminal with the appropriate `conda` environment activated:<br>`process {config_file}`\")"
   ]
  },
  {
   "cell_type": "markdown",
   "id": "serious-satisfaction",
   "metadata": {},
   "source": [
    "## Build h5 Database from Catalogue"
   ]
  },
  {
   "cell_type": "code",
   "execution_count": null,
   "id": "three-confirmation",
   "metadata": {},
   "outputs": [],
   "source": []
  }
 ],
 "metadata": {
  "kernelspec": {
   "display_name": "RISProcess",
   "language": "python",
   "name": "risprocess"
  },
  "language_info": {
   "codemirror_mode": {
    "name": "ipython",
    "version": 3
   },
   "file_extension": ".py",
   "mimetype": "text/x-python",
   "name": "python",
   "nbconvert_exporter": "python",
   "pygments_lexer": "ipython3",
   "version": "3.8.6"
  }
 },
 "nbformat": 4,
 "nbformat_minor": 5
}
